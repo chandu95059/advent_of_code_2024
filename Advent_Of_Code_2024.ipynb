{
  "nbformat": 4,
  "nbformat_minor": 0,
  "metadata": {
    "colab": {
      "provenance": []
    },
    "kernelspec": {
      "name": "python3",
      "display_name": "Python 3"
    },
    "language_info": {
      "name": "python"
    }
  },
  "cells": [
    {
      "cell_type": "code",
      "execution_count": 1,
      "metadata": {
        "id": "9xG7pKGfSi9U"
      },
      "outputs": [],
      "source": [
        "import requests\n",
        "session_id=\"53616c7465645f5f80d476473261d06a0c68aa912a937e9bf9a3b532f80b79af269ceaeb437b8a9bc8cce8faaa01aa5e96262ef5d59a05057837e35df275d56e\"\n",
        "def get_advent_of_code_input(year,day,session_id):\n",
        "  url=f\"https://adventofcode.com/{year}/day/{day}/input\"\n",
        "  headers = {\"Cookie\":f\"session={session_id}\"}\n",
        "  response = requests.get(url,headers=headers)\n",
        "  if(response.status_code==200):\n",
        "    return response.text.strip()\n",
        "  else:\n",
        "    print(f\"Failed to fetch data. {response.status_code}\")\n",
        "    return None\n",
        "# import requests\n",
        "# session_id=\"53616c7465645f5fc9b2c2a3ac7e51d79a7e93848102302526ecc97df1c276cfad384c010b1b5182a1ba9aad622c0bdd89b059ec8e205d139a09adee778edfdc\"\n",
        "def get_advent_of_code_input2(year,day,session_id):\n",
        "  url=f\"https://adventofcode.com/{year}/day/{day}/input\"\n",
        "  headers = {\"Cookie\":f\"session={session_id}\"}\n",
        "  response = requests.get(url,headers=headers)\n",
        "  if(response.status_code==200):\n",
        "    return response.text\n",
        "  else:\n",
        "    print(f\"Failed to fetch data. {response.status_code}\")\n",
        "    return None\n",
        "\n",
        "def load(year,day):\n",
        "  return get_advent_of_code_input(year,day,session_id)\n",
        "def load2(year,day):\n",
        "  return get_advent_of_code_input2(year,day,session_id)\n",
        "\n",
        "\n"
      ]
    },
    {
      "cell_type": "code",
      "source": [
        "a = load(2024,1)\n",
        "# a = '''3   4\n",
        "# 4   3\n",
        "# 2   5\n",
        "# 1   3\n",
        "# 3   9\n",
        "# 3   3'''\n",
        "a = a.split('\\n')\n",
        "res = 0\n",
        "array_1 =[int(row.split(' ')[0]) for row  in a]\n",
        "array_2 = [int(row.split(' ')[-1]) for row  in a]\n",
        "array_1.sort()\n",
        "array_2.sort()\n",
        "\n",
        "for i in range(len(array_1)):\n",
        "  res += abs(array_1[i] - array_2[i])\n",
        "\n",
        "print(res)\n",
        "\n"
      ],
      "metadata": {
        "colab": {
          "base_uri": "https://localhost:8080/"
        },
        "id": "6BtqYxR-S1J6",
        "outputId": "5061f5c4-54cc-4f5d-9dca-692a23e2f976"
      },
      "execution_count": null,
      "outputs": [
        {
          "output_type": "stream",
          "name": "stdout",
          "text": [
            "2000468\n"
          ]
        }
      ]
    },
    {
      "cell_type": "code",
      "source": [
        "a = load(2024,1)\n",
        "# a = '''3   4\n",
        "# 4   3\n",
        "# 2   5\n",
        "# 1   3\n",
        "# 3   9\n",
        "# 3   3'''\n",
        "\n",
        "a = a.split('\\n')\n",
        "res = 0\n",
        "\n",
        "right_list_number_count = {}\n",
        "\n",
        "\n",
        "for row in a:\n",
        "  if(int(row.split(' ')[-1]) not in right_list_number_count):\n",
        "    right_list_number_count[int(row.split(' ')[-1])] = 1\n",
        "  else:\n",
        "    right_list_number_count[int(row.split(' ')[-1])] += 1\n",
        "\n",
        "\n",
        "right_list_number_count\n",
        "\n",
        "for row in a:\n",
        "  if(int(row.split(' ')[0]) not in right_list_number_count):\n",
        "    res += 0\n",
        "  else:\n",
        "    res += int(row.split(' ')[0])  * right_list_number_count[int(row.split(' ')[0])]\n",
        "\n",
        "print(res)"
      ],
      "metadata": {
        "colab": {
          "base_uri": "https://localhost:8080/"
        },
        "id": "_z0DRHLc-lOK",
        "outputId": "9d2d0c9c-73e1-4731-c2fa-35ed5bdfa7f2"
      },
      "execution_count": null,
      "outputs": [
        {
          "output_type": "stream",
          "name": "stdout",
          "text": [
            "18567089\n"
          ]
        }
      ]
    },
    {
      "cell_type": "code",
      "source": [
        "a = load(2024,2)\n",
        "# a = '''7 6 4 2 1\n",
        "# 1 2 7 8 9\n",
        "# 9 7 6 2 1\n",
        "# 1 3 2 4 5\n",
        "# 8 6 4 4 1\n",
        "# 1 3 6 7 9'''\n",
        "\n",
        "a = a.split('\\n')\n",
        "arr = []\n",
        "\n",
        "\n",
        "for row in a:\n",
        "  arr.append(list(map(int,row.split(' '))))\n",
        "\n",
        "\n",
        "def checkArrayType(arr):\n",
        "  is_ascending = all(arr[i] < arr[i + 1] for i in range(len(arr) - 1))\n",
        "  is_descending = all(arr[i] > arr[i + 1] for i in range(len(arr) - 1))\n",
        "\n",
        "  if is_ascending:\n",
        "      return check_after(arr)\n",
        "  elif is_descending:\n",
        "      return check_after(arr)\n",
        "  else:\n",
        "      return False\n",
        "\n",
        "def check_after(arr):\n",
        "  return all(abs(arr[i]-arr[i+1])<=3 for i in range(len(arr)-1))\n",
        "\n",
        "\n",
        "count = 0\n",
        "elements_left = []\n",
        "\n",
        "\n",
        "for ele in arr:\n",
        "  if(checkArrayType(ele)):\n",
        "    count += 1\n",
        "  else:\n",
        "    elements_left.append(ele)\n",
        "\n",
        "\n",
        "for arr in elements_left:\n",
        "  for i in range(len(arr)):\n",
        "    x = arr[:i] + arr[i+1:]\n",
        "    if(checkArrayType(x)):\n",
        "      count += 1\n",
        "      break\n",
        "print(count)\n",
        "\n",
        "\n",
        "\n"
      ],
      "metadata": {
        "colab": {
          "base_uri": "https://localhost:8080/"
        },
        "id": "W91QMpAmEVUP",
        "outputId": "2cfd5449-4fdb-4a81-8a0c-7c8916aeb5a9"
      },
      "execution_count": null,
      "outputs": [
        {
          "output_type": "stream",
          "name": "stdout",
          "text": [
            "426\n"
          ]
        }
      ]
    },
    {
      "cell_type": "code",
      "source": [
        "import re\n",
        "a = load(2024,3)\n",
        "# a ='xmul(2,4)%&mul[3,7]!@^do_not_mul(5,5)+mul(32,64]then(mul(11,8)mul(8,5))'\n",
        "ele_arr = re.findall('mul\\(\\d+,\\d+\\)',a)\n",
        "sum = 0\n",
        "\n",
        "for ele in ele_arr:\n",
        "  ele_list = list(map(int,re.findall('\\d+',ele)))\n",
        "  sum += ele_list[0] * ele_list[1]\n",
        "print(sum)\n",
        "\n",
        "# print(ele)"
      ],
      "metadata": {
        "id": "nM_7s3tBWJkO",
        "outputId": "0c9d6a54-c932-47ad-ec91-4086128ea3bd",
        "colab": {
          "base_uri": "https://localhost:8080/"
        }
      },
      "execution_count": 12,
      "outputs": [
        {
          "output_type": "stream",
          "name": "stdout",
          "text": [
            "173419328\n"
          ]
        }
      ]
    }
  ]
}
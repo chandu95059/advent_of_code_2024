{
  "nbformat": 4,
  "nbformat_minor": 0,
  "metadata": {
    "colab": {
      "provenance": []
    },
    "kernelspec": {
      "name": "python3",
      "display_name": "Python 3"
    },
    "language_info": {
      "name": "python"
    }
  },
  "cells": [
    {
      "cell_type": "code",
      "execution_count": 2,
      "metadata": {
        "id": "9xG7pKGfSi9U"
      },
      "outputs": [],
      "source": [
        " import requests\n",
        "session_id=\"53616c7465645f5f80d476473261d06a0c68aa912a937e9bf9a3b532f80b79af269ceaeb437b8a9bc8cce8faaa01aa5e96262ef5d59a05057837e35df275d56e\"\n",
        "def get_advent_of_code_input(year,day,session_id):\n",
        "  url=f\"https://adventofcode.com/{year}/day/{day}/input\"\n",
        "  headers = {\"Cookie\":f\"session={session_id}\"}\n",
        "  response = requests.get(url,headers=headers)\n",
        "  if(response.status_code==200):\n",
        "    return response.text.strip()\n",
        "  else:\n",
        "    print(f\"Failed to fetch data. {response.status_code}\")\n",
        "    return None\n",
        "# import requests\n",
        "# session_id=\"53616c7465645f5fc9b2c2a3ac7e51d79a7e93848102302526ecc97df1c276cfad384c010b1b5182a1ba9aad622c0bdd89b059ec8e205d139a09adee778edfdc\"\n",
        "def get_advent_of_code_input2(year,day,session_id):\n",
        "  url=f\"https://adventofcode.com/{year}/day/{day}/input\"\n",
        "  headers = {\"Cookie\":f\"session={session_id}\"}\n",
        "  response = requests.get(url,headers=headers)\n",
        "  if(response.status_code==200):\n",
        "    return response.text\n",
        "  else:\n",
        "    print(f\"Failed to fetch data. {response.status_code}\")\n",
        "    return None\n",
        "\n",
        "def load(year,day):\n",
        "  return get_advent_of_code_input(year,day,session_id)\n",
        "def load2(year,day):\n",
        "  return get_advent_of_code_input2(year,day,session_id)\n",
        "\n",
        "\n"
      ]
    },
    {
      "cell_type": "code",
      "source": [
        "a = load(2024,1)\n",
        "# a = '''3   4\n",
        "# 4   3\n",
        "# 2   5\n",
        "# 1   3\n",
        "# 3   9\n",
        "# 3   3'''\n",
        "a = a.split('\\n')\n",
        "res = 0\n",
        "array_1 =[int(row.split(' ')[0]) for row  in a]\n",
        "array_2 = [int(row.split(' ')[-1]) for row  in a]\n",
        "array_1.sort()\n",
        "array_2.sort()\n",
        "\n",
        "for i in range(len(array_1)):\n",
        "  res += abs(array_1[i] - array_2[i])\n",
        "\n",
        "print(res)\n",
        "\n"
      ],
      "metadata": {
        "colab": {
          "base_uri": "https://localhost:8080/"
        },
        "id": "6BtqYxR-S1J6",
        "outputId": "5061f5c4-54cc-4f5d-9dca-692a23e2f976"
      },
      "execution_count": 3,
      "outputs": [
        {
          "output_type": "stream",
          "name": "stdout",
          "text": [
            "2000468\n"
          ]
        }
      ]
    },
    {
      "cell_type": "code",
      "source": [
        "a = load(2024,1)\n",
        "# a = '''3   4\n",
        "# 4   3\n",
        "# 2   5\n",
        "# 1   3\n",
        "# 3   9\n",
        "# 3   3'''\n",
        "\n",
        "a = a.split('\\n')\n",
        "res = 0\n",
        "\n",
        "right_list_number_count = {}\n",
        "\n",
        "\n",
        "for row in a:\n",
        "  if(int(row.split(' ')[-1]) not in right_list_number_count):\n",
        "    right_list_number_count[int(row.split(' ')[-1])] = 1\n",
        "  else:\n",
        "    right_list_number_count[int(row.split(' ')[-1])] += 1\n",
        "\n",
        "\n",
        "right_list_number_count\n",
        "\n",
        "for row in a:\n",
        "  if(int(row.split(' ')[0]) not in right_list_number_count):\n",
        "    res += 0\n",
        "  else:\n",
        "    res += int(row.split(' ')[0])  * right_list_number_count[int(row.split(' ')[0])]\n",
        "\n",
        "print(res)"
      ],
      "metadata": {
        "colab": {
          "base_uri": "https://localhost:8080/"
        },
        "id": "_z0DRHLc-lOK",
        "outputId": "9d2d0c9c-73e1-4731-c2fa-35ed5bdfa7f2"
      },
      "execution_count": 15,
      "outputs": [
        {
          "output_type": "stream",
          "name": "stdout",
          "text": [
            "18567089\n"
          ]
        }
      ]
    }
  ]
}